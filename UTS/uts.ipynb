import random
import matplotlib.pyplot as plt
import pandas as pd

def flip_coin():
    """Fungsi untuk melempar koin dan mengembalikan hasil lemparan (H atau T)."""
    result = random.choice(['H', 'T'])  # 'H' untuk kepala (head), 'T' untuk ekor (tail)
    return result

def simulate_coin_flips(num_flips):
    """Fungsi untuk melakukan simulasi pelemparan koin sebanyak num_flips kali."""
    heads_count = 0
    tails_count = 0
    
    for _ in range(num_flips):
        result = flip_coin()
        if result == 'H':
            heads_count += 1
        else:
            tails_count += 1
    
    return heads_count, tails_count

def plot_histogram(heads_count, tails_count):
    """Fungsi untuk membuat histogram dari hasil simulasi."""
    labels = ['Heads', 'Tails']
    counts = [heads_count, tails_count]
    
    plt.bar(labels, counts, color=['blue', 'green'])
    plt.xlabel('Outcome')
    plt.ylabel('Frequency')
    plt.title('Coin Flip Simulation Results')
    plt.show()

def main():
    num_flips = int(input("Masukkan jumlah pelemparan koin yang ingin disimulasikan: "))
    heads_count, tails_count = simulate_coin_flips(num_flips)
    
    print("Hasil simulasi:")
    print(f"Jumlah kepala (Heads): {heads_count}")
    print(f"Jumlah ekor (Tails): {tails_count}")
    
    # Plot histogram
    plot_histogram(heads_count, tails_count)

    # Simpan hasil simulasi ke dalam DataFrame
    df = pd.DataFrame({'Outcome': ['Heads', 'Tails'], 'Frequency': [heads_count, tails_count]})
    
    # Simpan DataFrame ke dalam file Excel
    excel_filename = 'simulasi_pelemparan_koin.xlsx'
    df.to_excel(excel_filename, index=False)
    
    print(f"Hasil simulasi telah disimpan dalam file Excel: {excel_filename}")

if __name__ == "__main__":
    main()
